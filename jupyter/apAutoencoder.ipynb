{
 "cells": [
  {
   "cell_type": "code",
   "execution_count": 12,
   "metadata": {},
   "outputs": [],
   "source": [
    "import os\n",
    "import sys\n",
    "import random\n",
    "import time\n",
    "import pickle\n",
    "import pandas\n",
    "import numpy as np\n",
    "import matplotlib.pyplot as mplot\n",
    "import seaborn\n",
    "from sklearn.model_selection import train_test_split\n",
    "from sklearn import metrics\n",
    "from tqdm import tqdm\n",
    "import sagemaker\n",
    "import boto3\n",
    "from sagemaker.tensorflow import TensorFlow\n",
    "\n",
    "sys.path.append('../tools/')\n",
    "import sound_tools\n",
    "import utils"
   ]
  },
  {
   "cell_type": "code",
   "execution_count": 13,
   "metadata": {},
   "outputs": [],
   "source": [
    "# inicjalizacja:\n",
    "%matplotlib inline\n",
    "mplot.style.use('Solarize_Light2')\n",
    "random.seed(508)\n",
    "np.random.seed(508)\n",
    "sess = sagemaker.Session()\n",
    "role = sagemaker.get_execution_role()\n",
    "\n",
    "DATA           = os.path.join('data', 'temp')\n",
    "PROCESSED_DATA = os.path.join('data', 'processed')"
   ]
  },
  {
   "cell_type": "code",
   "execution_count": 14,
   "metadata": {},
   "outputs": [],
   "source": [
    "n_mels = 128\n",
    "frames = 5\n",
    "n_fft = 2048\n",
    "hop_length = 512\n",
    "power = 2.0\n",
    "blue = '#1520A6' #azure\n",
    "red = '#ff1a1a'"
   ]
  },
  {
   "cell_type": "code",
   "execution_count": 15,
   "metadata": {},
   "outputs": [
    {
     "name": "stdout",
     "output_type": "stream",
     "text": [
      "number of train files:\n",
      "3463\n",
      "number of test files:\n",
      "833\n"
     ]
    }
   ],
   "source": [
    "########budowa zbiorów danych\n",
    "#funkcja pomocniczna przyporządkowująca do zbiorów danych\n",
    "\n",
    "def build_files_list(root_dir, abnormal_dir='abnormal', normal_dir='normal'):\n",
    "    normal_files = []\n",
    "    abnormal_files = []\n",
    "    for root, dirs, files in os.walk(top = os.path.join(root_dir)):\n",
    "        for name in files:\n",
    "            current_dir_type = root.split('/')[-1]\n",
    "            if current_dir_type == abnormal_dir:\n",
    "                abnormal_files.append(os.path.join(root, name))\n",
    "            if current_dir_type == normal_dir:\n",
    "                normal_files.append(os.path.join(root, name))\n",
    "    return normal_files, abnormal_files\n",
    "\n",
    "normal_files, abnormal_files = build_files_list(root_dir=os.path.join(DATA, 'fan'))\n",
    "\n",
    "X = np.concatenate((normal_files, abnormal_files), axis=0)\n",
    "y = np.concatenate((np.zeros(len(normal_files)), np.ones(len(abnormal_files))), axis=0)\n",
    "\n",
    "train_files, test_files, train_labels, test_labels = train_test_split(X, y,\n",
    "                                                                      train_size=0.85,\n",
    "                                                                      random_state=508,\n",
    "                                                                      shuffle=True,\n",
    "                                                                      stratify=y\n",
    "                                                                     )\n",
    "dataset = dict({\n",
    "    'train_files': train_files,\n",
    "    'test_files': test_files,\n",
    "    'train_labels': train_labels,\n",
    "    'test_labels': test_labels\n",
    "})\n",
    "\n",
    "for key, values in dataset.items():\n",
    "    fname = os.path.join(PROCESSED_DATA, key + '.txt')\n",
    "    with open(fname, 'w') as f:\n",
    "        for item in values:\n",
    "            f.write(str(item))\n",
    "            f.write('\\n')\n",
    "\n",
    "train_files = [f for f in train_files if f not in abnormal_files]\n",
    "train_labels = np.zeros(len(train_files))\n",
    "print(\"liczba plików w zbiorze treningowym:\")\n",
    "print(len(train_files))\n",
    "print(\"liczba plików w zbiorze testowym:\")\n",
    "print(len(test_files))"
   ]
  },
  {
   "cell_type": "markdown",
   "metadata": {},
   "source": [
    "### Ekstrakcja cech przy pomocy spektrogramów Mela"
   ]
  },
  {
   "cell_type": "code",
   "execution_count": 16,
   "metadata": {},
   "outputs": [
    {
     "name": "stdout",
     "output_type": "stream",
     "text": [
      "autoenkoder_data already exists...\n"
     ]
    }
   ],
   "source": [
    "\n",
    "def extract_signal_features(signal, sr, n_mels=64, frames=5, n_fft=1024, hop_length=512):\n",
    "    mel_spectrogram = librosa.feature.melspectrogram(\n",
    "        y=signal,\n",
    "        sr=sr,\n",
    "        n_fft=n_fft,\n",
    "        hop_length=hop_length,\n",
    "        n_mels=n_mels\n",
    "    )\n",
    "    \n",
    "    log_mel_spectrogram = librosa.power_to_db(mel_spectrogram, ref=np.max)\n",
    "    features_vector_size = log_mel_spectrogram.shape[1] - frames + 1\n",
    "    dims = frames * n_mels\n",
    "    if features_vector_size < 1:\n",
    "        return np.empty((0, dims), np.float32)\n",
    "    \n",
    "    features = np.zeros((features_vector_size, dims), np.float32)\n",
    "    for t in range(frames):\n",
    "        features[:, n_mels * t: n_mels * (t + 1)] = log_mel_spectrogram[:, t:t + features_vector_size].T\n",
    "    return features\n",
    "\n",
    "def generate_dataset(files_list, n_mels=64, frames=5, n_fft=1024, hop_length=512):\n",
    "    dims = n_mels * frames\n",
    "    \n",
    "    for index in tqdm(range(len(files_list)), desc='Extracting features'):\n",
    "        signal, sr = sound_tools.load_sound_file(files_list[index])\n",
    "        \n",
    "        features = sound_tools.extract_signal_features(\n",
    "            signal, \n",
    "            sr, \n",
    "            n_mels=n_mels, \n",
    "            frames=frames, \n",
    "            n_fft=n_fft, \n",
    "            hop_length=hop_length\n",
    "        )\n",
    "        \n",
    "        if index == 0:\n",
    "            dataset = np.zeros((features.shape[0] * len(files_list), dims), np.float32)\n",
    "            \n",
    "        dataset[features.shape[0] * index : features.shape[0] * (index + 1), :] = features\n",
    "    return dataset\n",
    "\n",
    "train_data_location = os.path.join(DATA, 'autoenkoder_data.pkl')\n",
    "\n",
    "if os.path.exists(train_data_location):\n",
    "    print('dane już istnieją...')\n",
    "    with open(train_data_location, 'rb') as f:\n",
    "        train_data = pickle.load(f)\n",
    "else:\n",
    "    train_data = generate_dataset(train_files, n_mels=n_mels, frames=frames, n_fft=n_fft, hop_length=hop_length)\n",
    "    with open(os.path.join(DATA, 'autoenkoder_data.pkl'), 'wb') as f:\n",
    "        pickle.dump(train_data, f)"
   ]
  },
  {
   "cell_type": "code",
   "execution_count": 17,
   "metadata": {},
   "outputs": [
    {
     "name": "stdout",
     "output_type": "stream",
     "text": [
      "s3://sagemaker-us-east-1-498219726579/training/autoenkoder_data.pkl\n"
     ]
    }
   ],
   "source": [
    "sess = sagemaker.Session()\n",
    "training_path = sess.upload_data(os.path.join(DATA, 'autoenkoder_data.pkl'), key_prefix='training')\n",
    "print(training_path)"
   ]
  },
  {
   "cell_type": "markdown",
   "metadata": {},
   "source": [
    "## Tworzenie modelu Tensorflow\n",
    "---\n",
    "### Definicja estymatora"
   ]
  },
  {
   "cell_type": "code",
   "execution_count": 39,
   "metadata": {},
   "outputs": [
    {
     "name": "stdout",
     "output_type": "stream",
     "text": [
      "\u001b[34mimport\u001b[39;49;00m \u001b[04m\u001b[36margparse\u001b[39;49;00m, \u001b[04m\u001b[36mos\u001b[39;49;00m\n",
      "\u001b[34mimport\u001b[39;49;00m \u001b[04m\u001b[36mnumpy\u001b[39;49;00m \u001b[34mas\u001b[39;49;00m \u001b[04m\u001b[36mnp\u001b[39;49;00m\n",
      "\u001b[34mimport\u001b[39;49;00m \u001b[04m\u001b[36mpickle\u001b[39;49;00m\n",
      "\n",
      "\u001b[34mimport\u001b[39;49;00m \u001b[04m\u001b[36mtensorflow\u001b[39;49;00m \u001b[34mas\u001b[39;49;00m \u001b[04m\u001b[36mtf\u001b[39;49;00m\n",
      "\u001b[34mimport\u001b[39;49;00m \u001b[04m\u001b[36mtensorflow\u001b[39;49;00m\u001b[04m\u001b[36m.\u001b[39;49;00m\u001b[04m\u001b[36mkeras\u001b[39;49;00m \u001b[34mas\u001b[39;49;00m \u001b[04m\u001b[36mkeras\u001b[39;49;00m\n",
      "\u001b[34mfrom\u001b[39;49;00m \u001b[04m\u001b[36mtensorflow\u001b[39;49;00m\u001b[04m\u001b[36m.\u001b[39;49;00m\u001b[04m\u001b[36mkeras\u001b[39;49;00m \u001b[34mimport\u001b[39;49;00m backend \u001b[34mas\u001b[39;49;00m K\n",
      "\u001b[34mfrom\u001b[39;49;00m \u001b[04m\u001b[36mtensorflow\u001b[39;49;00m\u001b[04m\u001b[36m.\u001b[39;49;00m\u001b[04m\u001b[36mkeras\u001b[39;49;00m \u001b[34mimport\u001b[39;49;00m Input\n",
      "\u001b[34mfrom\u001b[39;49;00m \u001b[04m\u001b[36mtensorflow\u001b[39;49;00m\u001b[04m\u001b[36m.\u001b[39;49;00m\u001b[04m\u001b[36mkeras\u001b[39;49;00m\u001b[04m\u001b[36m.\u001b[39;49;00m\u001b[04m\u001b[36mmodels\u001b[39;49;00m \u001b[34mimport\u001b[39;49;00m Model\n",
      "\u001b[34mfrom\u001b[39;49;00m \u001b[04m\u001b[36mtensorflow\u001b[39;49;00m\u001b[04m\u001b[36m.\u001b[39;49;00m\u001b[04m\u001b[36mkeras\u001b[39;49;00m\u001b[04m\u001b[36m.\u001b[39;49;00m\u001b[04m\u001b[36mlayers\u001b[39;49;00m \u001b[34mimport\u001b[39;49;00m Dense\n",
      "\u001b[34mfrom\u001b[39;49;00m \u001b[04m\u001b[36mtensorflow\u001b[39;49;00m\u001b[04m\u001b[36m.\u001b[39;49;00m\u001b[04m\u001b[36mkeras\u001b[39;49;00m\u001b[04m\u001b[36m.\u001b[39;49;00m\u001b[04m\u001b[36moptimizers\u001b[39;49;00m \u001b[34mimport\u001b[39;49;00m Adam\n",
      "\u001b[34mfrom\u001b[39;49;00m \u001b[04m\u001b[36mtensorflow\u001b[39;49;00m\u001b[04m\u001b[36m.\u001b[39;49;00m\u001b[04m\u001b[36mkeras\u001b[39;49;00m\u001b[04m\u001b[36m.\u001b[39;49;00m\u001b[04m\u001b[36mutils\u001b[39;49;00m \u001b[34mimport\u001b[39;49;00m multi_gpu_model\n",
      "\n",
      "\u001b[34mdef\u001b[39;49;00m \u001b[32mautoencoder_model\u001b[39;49;00m(input_dims):\n",
      "    \u001b[37m#Część enkoder\u001b[39;49;00m\n",
      "    inputLayer = Input(shape=(input_dims,))\n",
      "    encoder = Dense(\u001b[34m128\u001b[39;49;00m, activation=\u001b[33m\"\u001b[39;49;00m\u001b[33mrelu\u001b[39;49;00m\u001b[33m\"\u001b[39;49;00m)(inputLayer)\n",
      "    encoder = Dense(\u001b[34m64\u001b[39;49;00m, activation=\u001b[33m\"\u001b[39;49;00m\u001b[33mrelu\u001b[39;49;00m\u001b[33m\"\u001b[39;49;00m)(encoder)\n",
      "    encoder = Dense(\u001b[34m32\u001b[39;49;00m, activation=\u001b[33m\"\u001b[39;49;00m\u001b[33mrelu\u001b[39;49;00m\u001b[33m\"\u001b[39;49;00m)(encoder)\n",
      "    encoder = Dense(\u001b[34m8\u001b[39;49;00m, activation=\u001b[33m\"\u001b[39;49;00m\u001b[33mrelu\u001b[39;49;00m\u001b[33m\"\u001b[39;49;00m)(encoder)\n",
      "    \n",
      "    \u001b[37m#Część dekoder\u001b[39;49;00m\n",
      "    encoder = Dense(\u001b[34m32\u001b[39;49;00m, activation=\u001b[33m\"\u001b[39;49;00m\u001b[33mrelu\u001b[39;49;00m\u001b[33m\"\u001b[39;49;00m)(encoder)\n",
      "    decoder = Dense(\u001b[34m64\u001b[39;49;00m, activation=\u001b[33m\"\u001b[39;49;00m\u001b[33mrelu\u001b[39;49;00m\u001b[33m\"\u001b[39;49;00m)(encoder)\n",
      "    decoder = Dense(\u001b[34m128\u001b[39;49;00m, activation=\u001b[33m\"\u001b[39;49;00m\u001b[33mrelu\u001b[39;49;00m\u001b[33m\"\u001b[39;49;00m)(decoder)\n",
      "    decoder = Dense(input_dims, activation=\u001b[34mNone\u001b[39;49;00m)(decoder)\n",
      "\n",
      "    \u001b[34mreturn\u001b[39;49;00m Model(inputs=inputLayer, outputs=decoder)\n",
      "\n",
      "\n",
      "\u001b[37m# epochs = 30\u001b[39;49;00m\n",
      "\u001b[37m# n_mels = 128\u001b[39;49;00m\n",
      "\u001b[34mdef\u001b[39;49;00m \u001b[32mtrain\u001b[39;49;00m(training_dir, model_dir, n_mels, frame, lr, batch_size, epochs, gpu_count):\n",
      "    \u001b[37m# Ładowanie danych\u001b[39;49;00m\n",
      "    train_data_file = os.path.join(training_dir, \u001b[33m'\u001b[39;49;00m\u001b[33mautoenkoder_data.pkl\u001b[39;49;00m\u001b[33m'\u001b[39;49;00m)\n",
      "    \u001b[34mwith\u001b[39;49;00m \u001b[36mopen\u001b[39;49;00m(train_data_file, \u001b[33m'\u001b[39;49;00m\u001b[33mrb\u001b[39;49;00m\u001b[33m'\u001b[39;49;00m) \u001b[34mas\u001b[39;49;00m f:\n",
      "        train_data = pickle.load(f) \n",
      "    \n",
      "    \u001b[37m#Przygotowanie modelu\u001b[39;49;00m\n",
      "    model = autoencoder_model(n_mels * frame)\n",
      "    \u001b[36mprint\u001b[39;49;00m(model.summary())\n",
      "    \n",
      "    \u001b[37m#wariant z wieloma gpu\u001b[39;49;00m\n",
      "    \u001b[34mif\u001b[39;49;00m gpu_count > \u001b[34m1\u001b[39;49;00m:\n",
      "        model = multi_gpu_model(model, gpus=gpu_count)\n",
      "       \n",
      "    \u001b[37m#Kompilacja modelu\u001b[39;49;00m\n",
      "    model.compile(\n",
      "        loss=\u001b[33m'\u001b[39;49;00m\u001b[33mmean_squared_error\u001b[39;49;00m\u001b[33m'\u001b[39;49;00m,\n",
      "        optimizer=Adam(learning_rate=lr),\n",
      "        metrics=[\u001b[33m'\u001b[39;49;00m\u001b[33maccuracy\u001b[39;49;00m\u001b[33m'\u001b[39;49;00m]\n",
      "    )\n",
      "    \n",
      "    \u001b[37m# Trenowanie modelu - te same dane używane do walidacji\u001b[39;49;00m\n",
      "    history = model.fit(\n",
      "        train_data, \n",
      "        train_data,\n",
      "        batch_size=batch_size,\n",
      "        validation_split=\u001b[34m0.1\u001b[39;49;00m,\n",
      "        epochs=epochs,\n",
      "        shuffle=\u001b[34mTrue\u001b[39;49;00m,\n",
      "        verbose=\u001b[34m2\u001b[39;49;00m\n",
      "    )\n",
      "    \n",
      "    \u001b[37m# Zapis\u001b[39;49;00m\n",
      "    os.makedirs(os.path.join(model_dir, \u001b[33m'\u001b[39;49;00m\u001b[33mmodel/1\u001b[39;49;00m\u001b[33m'\u001b[39;49;00m), exist_ok=\u001b[34mTrue\u001b[39;49;00m)\n",
      "    model.save(os.path.join(model_dir, \u001b[33m'\u001b[39;49;00m\u001b[33mmodel/1\u001b[39;49;00m\u001b[33m'\u001b[39;49;00m))\n",
      "\n",
      "    \n",
      "\u001b[34mdef\u001b[39;49;00m \u001b[32mparse_arguments\u001b[39;49;00m():\n",
      "    parser = argparse.ArgumentParser()\n",
      "    \n",
      "    parser.add_argument(\u001b[33m'\u001b[39;49;00m\u001b[33m--epochs\u001b[39;49;00m\u001b[33m'\u001b[39;49;00m, \u001b[36mtype\u001b[39;49;00m=\u001b[36mint\u001b[39;49;00m, default=\u001b[34m10\u001b[39;49;00m)\n",
      "    parser.add_argument(\u001b[33m'\u001b[39;49;00m\u001b[33m--n_mels\u001b[39;49;00m\u001b[33m'\u001b[39;49;00m, \u001b[36mtype\u001b[39;49;00m=\u001b[36mint\u001b[39;49;00m, default=\u001b[34m128\u001b[39;49;00m)\n",
      "    parser.add_argument(\u001b[33m'\u001b[39;49;00m\u001b[33m--frame\u001b[39;49;00m\u001b[33m'\u001b[39;49;00m, \u001b[36mtype\u001b[39;49;00m=\u001b[36mint\u001b[39;49;00m, default=\u001b[34m5\u001b[39;49;00m)\n",
      "    parser.add_argument(\u001b[33m'\u001b[39;49;00m\u001b[33m--learning-rate\u001b[39;49;00m\u001b[33m'\u001b[39;49;00m, \u001b[36mtype\u001b[39;49;00m=\u001b[36mfloat\u001b[39;49;00m, default=\u001b[34m0.01\u001b[39;49;00m)\n",
      "    parser.add_argument(\u001b[33m'\u001b[39;49;00m\u001b[33m--batch-size\u001b[39;49;00m\u001b[33m'\u001b[39;49;00m, \u001b[36mtype\u001b[39;49;00m=\u001b[36mint\u001b[39;49;00m, default=\u001b[34m128\u001b[39;49;00m)\n",
      "    parser.add_argument(\u001b[33m'\u001b[39;49;00m\u001b[33m--gpu-count\u001b[39;49;00m\u001b[33m'\u001b[39;49;00m, \u001b[36mtype\u001b[39;49;00m=\u001b[36mint\u001b[39;49;00m, default=os.environ[\u001b[33m'\u001b[39;49;00m\u001b[33mSM_NUM_GPUS\u001b[39;49;00m\u001b[33m'\u001b[39;49;00m])\n",
      "    parser.add_argument(\u001b[33m'\u001b[39;49;00m\u001b[33m--model-dir\u001b[39;49;00m\u001b[33m'\u001b[39;49;00m, \u001b[36mtype\u001b[39;49;00m=\u001b[36mstr\u001b[39;49;00m, default=os.environ[\u001b[33m'\u001b[39;49;00m\u001b[33mSM_MODEL_DIR\u001b[39;49;00m\u001b[33m'\u001b[39;49;00m])\n",
      "    parser.add_argument(\u001b[33m'\u001b[39;49;00m\u001b[33m--training\u001b[39;49;00m\u001b[33m'\u001b[39;49;00m, \u001b[36mtype\u001b[39;49;00m=\u001b[36mstr\u001b[39;49;00m, default=os.environ[\u001b[33m'\u001b[39;49;00m\u001b[33mSM_CHANNEL_TRAINING\u001b[39;49;00m\u001b[33m'\u001b[39;49;00m])\n",
      "\n",
      "    args, _ = parser.parse_known_args()\n",
      "    \n",
      "    \u001b[34mreturn\u001b[39;49;00m args\n",
      "\n",
      "\u001b[34mif\u001b[39;49;00m \u001b[31m__name__\u001b[39;49;00m == \u001b[33m'\u001b[39;49;00m\u001b[33m__main__\u001b[39;49;00m\u001b[33m'\u001b[39;49;00m:\n",
      "    tf.random.set_seed(\u001b[34m508\u001b[39;49;00m)\n",
      "    args = parse_arguments()\n",
      "    epochs       = args.epochs\n",
      "    n_mels       = args.n_mels\n",
      "    frame        = args.frame\n",
      "    lr           = args.learning_rate\n",
      "    batch_size   = args.batch_size\n",
      "    gpu_count    = args.gpu_count\n",
      "    model_dir    = args.model_dir\n",
      "    training_dir = args.training\n",
      "    \n",
      "    train(training_dir, model_dir, n_mels, frame, lr, batch_size, epochs, gpu_count)\n"
     ]
    }
   ],
   "source": [
    "#użycie estymatora z pliku\n",
    "!pygmentize ../autoencoder/model.py"
   ]
  },
  {
   "cell_type": "code",
   "execution_count": 61,
   "metadata": {},
   "outputs": [],
   "source": [
    "tf_estimator = TensorFlow(\n",
    "    base_job_name='sound-anomaly',\n",
    "    entry_point='model.py',\n",
    "    source_dir='../autoencoder/',\n",
    "    role=role,\n",
    "    instance_count=1, \n",
    "    instance_type='ml.m4.4xlarge',\n",
    "    framework_version='2.2',\n",
    "    py_version='py37',\n",
    "    hyperparameters={\n",
    "        'epochs': 30,\n",
    "        'batch-size': 512,\n",
    "        'learning-rate': 1e-3,\n",
    "        'n_mels': n_mels,\n",
    "        'frame': frames\n",
    "    },\n",
    "    debugger_hook_config=False\n",
    ")\n",
    "\n",
    "### Trenowanie modelu\n",
    "tf_estimator.fit({'training': training_path})"
   ]
  },
  {
   "cell_type": "code",
   "execution_count": 107,
   "metadata": {},
   "outputs": [
    {
     "name": "stderr",
     "output_type": "stream",
     "text": [
      "update_endpoint is a no-op in sagemaker>=2.\n",
      "See: https://sagemaker.readthedocs.io/en/stable/v2.html for details.\n"
     ]
    },
    {
     "name": "stdout",
     "output_type": "stream",
     "text": [
      "-----!\n",
      "Nazwa endpointu: sound-anomaly-2022-04-27-13-25-28\n"
     ]
    }
   ],
   "source": [
    "tf_endpoint_name = 'sound-anomaly-'+time.strftime(\"%Y-%m-%d-%H-%M-%S\", time.gmtime())\n",
    "tf_predictor = tf_estimator.deploy(\n",
    "    initial_instance_count=1,\n",
    "    instance_type='ml.c5.large',\n",
    "    endpoint_name=tf_endpoint_name\n",
    ")\n",
    "print(f'\\nNazwa endpointu: {tf_predictor.endpoint_name}')"
   ]
  },
  {
   "cell_type": "markdown",
   "metadata": {},
   "source": [
    "## Ewaluacja modelu"
   ]
  },
  {
   "cell_type": "markdown",
   "metadata": {},
   "source": [
    "### Sprawdzenie wyników osiąganych przez system na zbiorze testowym "
   ]
  },
  {
   "cell_type": "code",
   "execution_count": 108,
   "metadata": {},
   "outputs": [
    {
     "name": "stderr",
     "output_type": "stream",
     "text": [
      "100%|██████████| 833/833 [05:40<00:00,  2.44it/s]\n"
     ]
    }
   ],
   "source": [
    "y_true = test_labels\n",
    "reconstruction_errors = []\n",
    "\n",
    "for index, eval_filename in tqdm(enumerate(test_files), total=len(test_files)):\n",
    "    \n",
    "    signal, sr = sound_tools.load_sound_file(eval_filename)\n",
    "    print(eval_filename)\n",
    "    # Ekstrakcja cech z sygnału:\n",
    "    eval_features = sound_tools.extract_signal_features(\n",
    "        signal, \n",
    "        sr, \n",
    "        n_mels=n_mels, \n",
    "        frames=frames, \n",
    "        n_fft=n_fft, \n",
    "        hop_length=hop_length\n",
    "    )\n",
    "    \n",
    "    # Pobieranie predykcji jako wyniku działania autoenkodera:\n",
    "    prediction = tf_predictor.predict(eval_features)['predictions']\n",
    "    \n",
    "    # Obliczanie błędu rekonstrukcji:\n",
    "    mse = np.mean(np.mean(np.square(eval_features - prediction), axis=1))\n",
    "    reconstruction_errors.append(mse)"
   ]
  },
  {
   "cell_type": "markdown",
   "metadata": {},
   "source": [
    "### Analiza błędów rekonstrukcji"
   ]
  },
  {
   "cell_type": "code",
   "execution_count": 65,
   "metadata": {},
   "outputs": [
    {
     "data": {
      "image/png": "[encoded data removed]",
      "text/plain": [
       "<Figure size 864x288 with 1 Axes>"
      ]
     },
     "metadata": {},
     "output_type": "display_data"
    }
   ],
   "source": [
    "data = np.column_stack((range(len(reconstruction_errors)), reconstruction_errors))\n",
    "bin_width = 0.25\n",
    "bins = np.arange(min(reconstruction_errors), max(reconstruction_errors) + bin_width, bin_width)\n",
    "\n",
    "fig = mplot.figure(figsize=(12,4))\n",
    "mplot.hist(data[y_true==0][:,1], bins=bins, color=blue, alpha=0.6, label='Sygnały oznaczone jako normalne', edgecolor='#FFFFFF')\n",
    "mplot.hist(data[y_true==1][:,1], bins=bins, color=red, alpha=0.6, label='Sygnały oznaczone jako anomelie', edgecolor='#FFFFFF')\n",
    "mplot.xlabel(\"Błąd rekonstrukcji\")\n",
    "mplot.ylabel(\"Liczba próbek\")\n",
    "mplot.title('Rozkład błędów rekonstrukcji', fontsize=16)\n",
    "mplot.legend()\n",
    "mplot.show()"
   ]
  },
  {
   "cell_type": "code",
   "execution_count": 66,
   "metadata": {},
   "outputs": [],
   "source": [
    "threshold_min = 5.0\n",
    "threshold_max = 10.0\n",
    "threshold_step = 0.50"
   ]
  },
  {
   "cell_type": "code",
   "execution_count": 67,
   "metadata": {},
   "outputs": [
    {
     "data": {
      "image/png": "[encoded data removed]",
      "text/plain": [
       "<Figure size 1728x576 with 1 Axes>"
      ]
     },
     "metadata": {},
     "output_type": "display_data"
    }
   ],
   "source": [
    "normal_x, normal_y = data[y_true==0][:,0], data[y_true==0][:,1]\n",
    "abnormal_x, abnormal_y = data[y_true==1][:,0], data[y_true==1][:,1]\n",
    "x = np.concatenate((normal_x, abnormal_x))\n",
    "\n",
    "fig, ax = mplot.subplots(figsize=(24,8))\n",
    "mplot.scatter(normal_x, normal_y, s=15, color='tab:green', alpha=0.3, label='Sygnały oznaczone jako normalne')\n",
    "mplot.scatter(abnormal_x, abnormal_y, s=15, color='tab:red', alpha=0.3,   label='Sygnały oznaczone jako anomelie')\n",
    "mplot.fill_between(x, threshold_min, threshold_max, alpha=0.1, color='tab:orange', label='Zakres')\n",
    "mplot.hlines([threshold_min, threshold_max], x.min(), x.max(), linewidth=0.5, alpha=0.8, color='tab:olive')\n",
    "mplot.legend(loc='upper left')\n",
    "mplot.title('Wykres pokazujący przedział ', fontsize=16)\n",
    "mplot.xlabel('Numer próbki')\n",
    "mplot.ylabel('Błąd rekonstrukcji')\n",
    "mplot.xlim([0,850])\n",
    "mplot.show()"
   ]
  },
  {
   "cell_type": "markdown",
   "metadata": {},
   "source": [
    "### Analiza i interpretacja otrzymanych wyników"
   ]
  },
  {
   "cell_type": "code",
   "execution_count": 101,
   "metadata": {},
   "outputs": [],
   "source": [
    "thresholds = np.arange(threshold_min, threshold_max + threshold_step, threshold_step)\n",
    "\n",
    "df = pandas.DataFrame(columns=['Signal', 'Ground Truth', 'Prediction', 'Reconstruction Error'])\n",
    "df['Signal'] = test_files\n",
    "df['Ground Truth'] = test_labels\n",
    "df['Reconstruction Error'] = reconstruction_errors\n",
    "\n",
    "FN = []\n",
    "FP = []\n",
    "for th in thresholds:\n",
    "    df.loc[df['Reconstruction Error'] <= th, 'Prediction'] = 0.0\n",
    "    df.loc[df['Reconstruction Error'] > th, 'Prediction'] = 1.0\n",
    "    df = utils.generate_error_types(df)\n",
    "    FN.append(df['FN'].sum())\n",
    "    FP.append(df['FP'].sum())\n",
    "\n",
    "def plot_curves(FP, FN, nb_samples, threshold_min, threshold_max, threshold_step):\n",
    "    fig = mplot.figure(figsize=(12, 6))\n",
    "    ax = fig.add_subplot(1, 1, 1)\n",
    "    \n",
    "    min_FN = np.argmin(FN)\n",
    "    min_FP = np.where(FP == np.min(FP))[0][-1]\n",
    "    plot_top = max(FP + FN) + 1\n",
    "    major_ticks = np.arange(threshold_min, threshold_max, 1.0 * threshold_step)\n",
    "    minor_ticks = np.arange(threshold_min, threshold_max, 0.2 * threshold_step)\n",
    "    ax.set_xticks(major_ticks);\n",
    "    ax.set_xticks(minor_ticks, minor=True);\n",
    "    ax.grid(which='minor', alpha=0.5)\n",
    "    ax.grid(which='major', alpha=1.0, linewidth=1.0)\n",
    "    \n",
    "    mplot.plot(np.arange(threshold_min, threshold_max + threshold_step, threshold_step), FP, label='Fałszywie pozytywne', color='tab:red')\n",
    "    mplot.plot(np.arange(threshold_min, threshold_max + threshold_step, threshold_step), FN, label='Fałszywie negatywne', color='tab:green')\n",
    "\n",
    "    mplot.xlabel('Przedział błędu rekonstrukcji [%]', fontsize=16)\n",
    "    mplot.ylabel('Liczba próbek', fontsize=16)\n",
    "    mplot.legend()\n",
    "    \n",
    "\n",
    "plot_curves(FP, FN, nb_samples=df.shape[0], threshold_min=threshold_min, threshold_max=threshold_max, threshold_step=threshold_step)"
   ]
  },
  {
   "cell_type": "code",
   "execution_count": 106,
   "metadata": {},
   "outputs": [
    {
     "data": {
      "image/png": "[encoded data removed]",
      "text/plain": [
       "<Figure size 288x216 with 2 Axes>"
      ]
     },
     "metadata": {},
     "output_type": "display_data"
    }
   ],
   "source": [
    "## Analiza wyników i rysowanie tablicy prawdy\n",
    "\n",
    "th = 6.5\n",
    "df.loc[df['Reconstruction Error'] <= th, 'Prediction'] = 0.0\n",
    "df.loc[df['Reconstruction Error'] > th, 'Prediction'] = 1.0\n",
    "df['Prediction'] = df['Prediction'].astype(np.float32)\n",
    "df = utils.generate_error_types(df)\n",
    "tp = df['TP'].sum()\n",
    "tn = df['TN'].sum()\n",
    "fn = df['FN'].sum()\n",
    "fp = df['FP'].sum()\n",
    "\n",
    "from sklearn.metrics import confusion_matrix\n",
    "df['Ground Truth'] = 1 - df['Ground Truth']\n",
    "df['Prediction'] = 1 - df['Prediction']\n",
    "\n",
    "def print_confusion_matrix(confusion_matrix, class_names, figsize = (4,3), fontsize=14):\n",
    "    df_cm = pandas.DataFrame(confusion_matrix, \n",
    "                         index=class_names, \n",
    "                         columns=class_names)\n",
    "    \n",
    "    fig = mplot.figure(figsize=figsize)\n",
    "    try:\n",
    "        heatmap = seaborn.heatmap(df_cm, annot=True, fmt=\"d\", annot_kws={\"size\": 16}, cmap='cividis')\n",
    "    except ValueError:\n",
    "        raise ValueError(\"input ints\")\n",
    "        \n",
    "    # Figure customization:\n",
    "    heatmap.yaxis.set_ticklabels(heatmap.yaxis.get_ticklabels(), rotation=0, ha='right', fontsize=fontsize)\n",
    "    heatmap.xaxis.set_ticklabels(heatmap.xaxis.get_ticklabels(), rotation=0, ha='right', fontsize=fontsize)\n",
    "    mplot.ylabel('Wynik rzeczywisty', fontsize=16)\n",
    "    mplot.xlabel('Wynik prognozowany', fontsize=16)\n",
    "    \n",
    "    return fig\n",
    "\n",
    "print_confusion_matrix(confusion_matrix(df['Ground Truth'], df['Prediction']), class_names=['anomalia', 'dobra\\n próbka']);"
   ]
  },
  {
   "cell_type": "code",
   "execution_count": 97,
   "metadata": {},
   "outputs": [],
   "source": [
    "df.to_csv(os.path.join(PROCESSED_DATA, 'results_autoencoder.csv'), index=False)"
   ]
  },
  {
   "cell_type": "code",
   "execution_count": 98,
   "metadata": {},
   "outputs": [
    {
     "name": "stdout",
     "output_type": "stream",
     "text": [
      "Podstawowe wskaźniki kwalifikacji wyników:\n",
      "- precyzja: 85.0%\n",
      "- czułość: 97.4%\n",
      "- dokładność: 87.3%\n",
      "- wynik F1: 90.8%\n",
      "- fałszywie ujemne: 2.6%\n"
     ]
    }
   ],
   "source": [
    "### obliczanie wskaźników\n",
    "\n",
    "precision = tp / (tp + fp)\n",
    "recall = tp / (tp + fn)\n",
    "accuracy = (tp + tn) / (tp + tn + fp + fn)\n",
    "f1_score = 2 * precision * recall / (precision + recall)\n",
    "miss_rate = fn / (tp + fn)\n",
    "print(f\"\"\"Podstawowe wskaźniki kwalifikacji wyników:\n",
    "- precyzja: {precision*100:.1f}%\n",
    "- czułość: {recall*100:.1f}%\n",
    "- dokładność: {accuracy*100:.1f}%\n",
    "- wynik F1: {f1_score*100:.1f}%\n",
    "- fałszywie ujemne: {miss_rate*100:.1f}%\"\"\")"
   ]
  },
  {
   "cell_type": "code",
   "execution_count": null,
   "metadata": {},
   "outputs": [],
   "source": [
    "### usuwanie endpointu w celu oszczędności środków\n",
    "sess.delete_endpoint(tf_predictor.endpoint_name)"
   ]
  },
  {
   "cell_type": "code",
   "execution_count": null,
   "metadata": {},
   "outputs": [],
   "source": []
  },
  {
   "cell_type": "code",
   "execution_count": null,
   "metadata": {},
   "outputs": [],
   "source": []
  }
 ],
 "metadata": {
  "kernelspec": {
   "display_name": "Python 3",
   "language": "python",
   "name": "python3"
  },
  "language_info": {
   "codemirror_mode": {
    "name": "ipython",
    "version": 3
   },
   "file_extension": ".py",
   "mimetype": "text/x-python",
   "name": "python",
   "nbconvert_exporter": "python",
   "pygments_lexer": "ipython3",
   "version": "3.9.13"
  }
 },
 "nbformat": 4,
 "nbformat_minor": 4
}
